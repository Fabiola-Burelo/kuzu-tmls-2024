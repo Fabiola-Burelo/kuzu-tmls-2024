{
 "cells": [
  {
   "cell_type": "markdown",
   "metadata": {},
   "source": [
    "# Kùzu: A gateway to graph machine learning\n",
    "\n",
    "This notebook will show how you can use Kùzu as a backend to PyTorch Geometric to run your graph machine learning experiments."
   ]
  },
  {
   "cell_type": "markdown",
   "metadata": {},
   "source": [
    "## Start a connection\n",
    "We can start by opening a connection to the existing Kùzu database."
   ]
  },
  {
   "cell_type": "code",
   "execution_count": 1,
   "metadata": {},
   "outputs": [],
   "source": [
    "import kuzu\n",
    "\n",
    "db = kuzu.Database(\"../ex_db_kuzu\")\n",
    "conn = kuzu.Connection(db)"
   ]
  },
  {
   "cell_type": "markdown",
   "metadata": {},
   "source": [
    "Next, we'll extract the graph data from Kùzu and organize it into a `feature_store` and the `graph_store` objects, which provide their respective data to PyTorch Geometric for downstream tasks. Once you have these two objects, you can proceed with your PyTorch Geometric workflow as you would with any other dataset."
   ]
  },
  {
   "cell_type": "code",
   "execution_count": 2,
   "metadata": {},
   "outputs": [],
   "source": [
    "feature_store, graph_store = db.get_torch_geometric_remote_backend()"
   ]
  },
  {
   "cell_type": "markdown",
   "metadata": {},
   "source": [
    "The feature store stores the node properties, while the graph store stores the edges and their properties."
   ]
  },
  {
   "cell_type": "code",
   "execution_count": 3,
   "metadata": {},
   "outputs": [
    {
     "data": {
      "text/plain": [
       "[TensorAttr(group_name='Account', attr_name='id', index=<_FieldStatus.UNSET: None>),\n",
       " TensorAttr(group_name='Account', attr_name='balance', index=<_FieldStatus.UNSET: None>),\n",
       " TensorAttr(group_name='Account', attr_name='betweenness_centrality', index=<_FieldStatus.UNSET: None>),\n",
       " TensorAttr(group_name='Person', attr_name='id', index=<_FieldStatus.UNSET: None>),\n",
       " TensorAttr(group_name='Person', attr_name='zip', index=<_FieldStatus.UNSET: None>)]"
      ]
     },
     "execution_count": 3,
     "metadata": {},
     "output_type": "execute_result"
    }
   ],
   "source": [
    "feature_store.get_all_tensor_attrs()"
   ]
  },
  {
   "cell_type": "markdown",
   "metadata": {},
   "source": [
    "You can access the properties within each node as tensors, as follows."
   ]
  },
  {
   "cell_type": "code",
   "execution_count": 4,
   "metadata": {},
   "outputs": [
    {
     "data": {
      "text/plain": [
       "tensor([ 8147., 14414.,  8044., 13799.,  6248.,  5274.,  7354.,  6841., 12200.,\n",
       "        13084.,  5251., 14586.,  7115.,  8072.,  8048., 14028., 13426.,  5392.,\n",
       "         8703.,  7110.,  5014.], dtype=torch.float64)"
      ]
     },
     "execution_count": 4,
     "metadata": {},
     "output_type": "execute_result"
    }
   ],
   "source": [
    "feature_store.get_tensor(\"Account\", \"balance\", None)"
   ]
  },
  {
   "cell_type": "markdown",
   "metadata": {},
   "source": [
    "To see the edge indices that are stored in the graph store, you can inspect the edge attributes as follows."
   ]
  },
  {
   "cell_type": "code",
   "execution_count": 5,
   "metadata": {},
   "outputs": [
    {
     "data": {
      "text/plain": [
       "[EdgeAttr(edge_type=('Person', 'Owns', 'Account'), layout=<EdgeLayout.COO: 'coo'>, is_sorted=True, size=(21, 21)),\n",
       " EdgeAttr(edge_type=('Person', 'LivesIn', 'Address'), layout=<EdgeLayout.COO: 'coo'>, is_sorted=True, size=(21, 15)),\n",
       " EdgeAttr(edge_type=('Account', 'Transfer', 'Account'), layout=<EdgeLayout.COO: 'coo'>, is_sorted=True, size=(21, 21))]"
      ]
     },
     "execution_count": 5,
     "metadata": {},
     "output_type": "execute_result"
    }
   ],
   "source": [
    "graph_store.get_all_edge_attrs()"
   ]
  },
  {
   "cell_type": "code",
   "execution_count": 6,
   "metadata": {},
   "outputs": [
    {
     "data": {
      "text/plain": [
       "tensor([[ 0,  1,  2,  3,  4,  5,  6,  7,  8,  9, 10, 11, 12, 13, 14, 15, 16, 17,\n",
       "         18, 19, 20],\n",
       "        [ 0,  1,  2,  3,  4,  5,  6,  7,  8,  9, 10, 11, 12, 13, 14, 15, 16, 17,\n",
       "         18, 19, 20]])"
      ]
     },
     "execution_count": 6,
     "metadata": {},
     "output_type": "execute_result"
    }
   ],
   "source": [
    "graph_store.get_edge_index(edge_type=('Person', 'Owns', 'Account'), layout='coo')"
   ]
  },
  {
   "cell_type": "markdown",
   "metadata": {},
   "source": [
    "Once you have the `feature_store` and `graph_store` objects available, you can use them as datasets in PyTorch Geometric. In a few lines of code, Kùzu can function as your go-to backend for graph machine learning tasks!"
   ]
  },
  {
   "cell_type": "markdown",
   "metadata": {},
   "source": [
    "## Further reading and examples\n",
    "\n",
    "See our [documentation page](https://docs.kuzudb.com/tutorials/#python) for tutorials and notebooks on using Kùzu with PyTorch Geometric for node/link prediction\n",
    "and how to set up a model train/test workflow."
   ]
  }
 ],
 "metadata": {
  "kernelspec": {
   "display_name": "tmls",
   "language": "python",
   "name": "tmls"
  },
  "language_info": {
   "codemirror_mode": {
    "name": "ipython",
    "version": 3
   },
   "file_extension": ".py",
   "mimetype": "text/x-python",
   "name": "python",
   "nbconvert_exporter": "python",
   "pygments_lexer": "ipython3",
   "version": "3.12.4"
  }
 },
 "nbformat": 4,
 "nbformat_minor": 2
}
